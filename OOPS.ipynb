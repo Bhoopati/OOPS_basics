{
 "cells": [
  {
   "cell_type": "markdown",
   "id": "e1726689-26b8-4e00-9354-362b26ef2ae4",
   "metadata": {},
   "source": [
    "# Object Oriented programming"
   ]
  },
  {
   "cell_type": "code",
   "execution_count": 200,
   "id": "a12bc77f-07e6-44af-8c9a-ee1bc9aecc44",
   "metadata": {},
   "outputs": [],
   "source": [
    "#Python program to demonstrate\n",
    "# classes\n",
    "class Student:\n",
    "  \n",
    " # class variable\n",
    " stream = \"COE\"\n",
    "  \n",
    " # Constructor\n",
    " def __init__(self, name, roll_no):\n",
    "   \n",
    "  self.name = name\n",
    "  self.roll_no = roll_no\n"
   ]
  },
  {
   "cell_type": "code",
   "execution_count": 201,
   "id": "8cfba50f-6416-4d5b-81a3-3a02eac495c1",
   "metadata": {},
   "outputs": [
    {
     "name": "stdout",
     "output_type": "stream",
     "text": [
      "COE\n",
      "COE\n",
      "Shivam\n",
      "Sachin\n",
      "COE\n"
     ]
    }
   ],
   "source": [
    "# Driver's code\n",
    "a = Student(\"Shivam\", 3425)\n",
    "b = Student(\"Sachin\", 3624)\n",
    " \n",
    "print(a.stream)\n",
    "print(b.stream)\n",
    "print(a.name)\n",
    "print(b.name)\n",
    " \n",
    "# Class variables can be accessed\n",
    "# using class name also\n",
    "print(Student.stream)"
   ]
  },
  {
   "cell_type": "code",
   "execution_count": 2,
   "id": "eda766ef-82dd-447c-861f-f2bedefd145d",
   "metadata": {},
   "outputs": [],
   "source": [
    "class Bird:\n",
    "   \n",
    "    def intro(self):\n",
    "        print(\"There are many types of birds.\")\n",
    " \n",
    "    def flight(self):\n",
    "        print(\"Most of the birds can fly but some cannot.\")\n",
    " \n",
    "class sparrow(Bird):\n",
    "   \n",
    "    def flight(self):\n",
    "        print(\"Sparrows can fly.\")\n",
    " \n",
    "class ostrich(Bird):\n",
    " \n",
    "    def flight(self):\n",
    "        print(\"Ostriches cannot fly.\")\n",
    " \n"
   ]
  },
  {
   "cell_type": "code",
   "execution_count": 3,
   "id": "52f9829b-44c4-4eba-88ee-490aa812b2a3",
   "metadata": {},
   "outputs": [
    {
     "name": "stdout",
     "output_type": "stream",
     "text": [
      "There are many types of birds.\n",
      "Most of the birds can fly but some cannot.\n",
      "There are many types of birds.\n",
      "Sparrows can fly.\n",
      "There are many types of birds.\n",
      "Ostriches cannot fly.\n"
     ]
    }
   ],
   "source": [
    "obj_bird = Bird()\n",
    "obj_spr = sparrow()\n",
    "obj_ost = ostrich()\n",
    " \n",
    "obj_bird.intro()\n",
    "obj_bird.flight()\n",
    " \n",
    "obj_spr.intro()\n",
    "obj_spr.flight()\n",
    " \n",
    "obj_ost.intro()\n",
    "obj_ost.flight()"
   ]
  },
  {
   "cell_type": "code",
   "execution_count": 30,
   "id": "44c58f7b-aef4-4f75-8d82-860689904e90",
   "metadata": {},
   "outputs": [
    {
     "data": {
      "text/plain": [
       "'ADEHD'"
      ]
     },
     "execution_count": 30,
     "metadata": {},
     "output_type": "execute_result"
    }
   ],
   "source": [
    "a = \"adehd\"\n",
    "a.upper()"
   ]
  },
  {
   "cell_type": "code",
   "execution_count": 36,
   "id": "6249c966-a06a-4e3b-889c-65aeed6eb111",
   "metadata": {},
   "outputs": [],
   "source": [
    "class upp:\n",
    "    \n",
    "    def up(a):\n",
    "        return a.upper()\n",
    "        "
   ]
  },
  {
   "cell_type": "code",
   "execution_count": 37,
   "id": "fb09513e-245d-40c8-981a-7c3094513aaf",
   "metadata": {},
   "outputs": [],
   "source": [
    "b =\"hfyfyd\"\n"
   ]
  },
  {
   "cell_type": "code",
   "execution_count": 38,
   "id": "4072de9c-a2a1-4d25-86eb-2ad8058cd15a",
   "metadata": {},
   "outputs": [
    {
     "ename": "ModuleNotFoundError",
     "evalue": "No module named 'upp'",
     "output_type": "error",
     "traceback": [
      "\u001b[1;31m---------------------------------------------------------------------------\u001b[0m",
      "\u001b[1;31mModuleNotFoundError\u001b[0m                       Traceback (most recent call last)",
      "Cell \u001b[1;32mIn[38], line 1\u001b[0m\n\u001b[1;32m----> 1\u001b[0m \u001b[38;5;28;01mimport\u001b[39;00m \u001b[38;5;21;01mupp\u001b[39;00m\n\u001b[0;32m      2\u001b[0m \u001b[38;5;28;01mfrom\u001b[39;00m \u001b[38;5;21;01mupp\u001b[39;00m \u001b[38;5;28;01mimport\u001b[39;00m up\n\u001b[0;32m      3\u001b[0m up(b)\n",
      "\u001b[1;31mModuleNotFoundError\u001b[0m: No module named 'upp'"
     ]
    }
   ],
   "source": [
    "import upp\n",
    "from upp import up\n",
    "up(b)"
   ]
  },
  {
   "cell_type": "code",
   "execution_count": 39,
   "id": "e2530787-5458-46fe-adf7-4ba4bdad6e9d",
   "metadata": {},
   "outputs": [
    {
     "data": {
      "text/plain": [
       "'HFYFYD'"
      ]
     },
     "execution_count": 39,
     "metadata": {},
     "output_type": "execute_result"
    }
   ],
   "source": [
    "up(b)"
   ]
  },
  {
   "cell_type": "code",
   "execution_count": 40,
   "id": "e64ac82d-1ca9-4c8f-b37b-b4a1b7f494f5",
   "metadata": {},
   "outputs": [],
   "source": [
    "def up(a):\n",
    " return a.upper()"
   ]
  },
  {
   "cell_type": "code",
   "execution_count": 42,
   "id": "f19b4ca3-5234-4d03-9dde-2f27d5498265",
   "metadata": {},
   "outputs": [
    {
     "data": {
      "text/plain": [
       "'HFYFYD'"
      ]
     },
     "execution_count": 42,
     "metadata": {},
     "output_type": "execute_result"
    }
   ],
   "source": [
    "up(b)"
   ]
  },
  {
   "cell_type": "code",
   "execution_count": 43,
   "id": "c2f73617-b6bf-486e-87b0-652bb9342ce3",
   "metadata": {},
   "outputs": [],
   "source": [
    "def up():\n",
    " return a.upper()"
   ]
  },
  {
   "cell_type": "code",
   "execution_count": 44,
   "id": "7d34c290-72ba-4e1b-9a5a-758cc76834fa",
   "metadata": {},
   "outputs": [
    {
     "ename": "AttributeError",
     "evalue": "'str' object has no attribute 'up'",
     "output_type": "error",
     "traceback": [
      "\u001b[1;31m---------------------------------------------------------------------------\u001b[0m",
      "\u001b[1;31mAttributeError\u001b[0m                            Traceback (most recent call last)",
      "Cell \u001b[1;32mIn[44], line 1\u001b[0m\n\u001b[1;32m----> 1\u001b[0m b\u001b[38;5;241m.\u001b[39mup()\n",
      "\u001b[1;31mAttributeError\u001b[0m: 'str' object has no attribute 'up'"
     ]
    }
   ],
   "source": [
    "b.up()"
   ]
  },
  {
   "cell_type": "code",
   "execution_count": 3,
   "id": "b5fccd3f-807b-4951-87f7-f9dc7465c9d5",
   "metadata": {},
   "outputs": [
    {
     "name": "stdout",
     "output_type": "stream",
     "text": [
      "GeeksforGeeks\n"
     ]
    },
    {
     "ename": "AttributeError",
     "evalue": "'Base' object has no attribute 'c'",
     "output_type": "error",
     "traceback": [
      "\u001b[1;31m---------------------------------------------------------------------------\u001b[0m",
      "\u001b[1;31mAttributeError\u001b[0m                            Traceback (most recent call last)",
      "Cell \u001b[1;32mIn[3], line 26\u001b[0m\n\u001b[0;32m     24\u001b[0m obj1 \u001b[38;5;241m=\u001b[39m Base()\n\u001b[0;32m     25\u001b[0m \u001b[38;5;28mprint\u001b[39m(obj1\u001b[38;5;241m.\u001b[39ma)\n\u001b[1;32m---> 26\u001b[0m \u001b[38;5;28mprint\u001b[39m(obj1\u001b[38;5;241m.\u001b[39mc)\n",
      "\u001b[1;31mAttributeError\u001b[0m: 'Base' object has no attribute 'c'"
     ]
    }
   ],
   "source": [
    "# Python program to\n",
    "# demonstrate private members\n",
    "# \"__\" double underscore represents private attribute. \n",
    "# Private attributes start with \"__\".\n",
    " \n",
    "# Creating a Base class\n",
    "class Base:\n",
    "    def __init__(self):\n",
    "        self.a = \"GeeksforGeeks\"\n",
    "        self.__c = \"GeeksforGeeks\"\n",
    " \n",
    "# Creating a derived class\n",
    "class Derived(Base):\n",
    "    def __init__(self):\n",
    " \n",
    "        # Calling constructor of\n",
    "        # Base class\n",
    "        Base.__init__(self)\n",
    "        print(\"Calling private member of base class: \")\n",
    "        print(self.__c)\n",
    " \n",
    " \n",
    "# Driver code\n",
    "obj1 = Base()\n",
    "print(obj1.a)\n",
    "print(obj1.c)\n",
    " \n",
    "# Uncommenting print(obj1.c) will\n",
    "# raise an AttributeError\n",
    "\n",
    "# Uncommenting obj2 = Derived() will\n",
    "# also raise an AtrributeError as\n",
    "# private member of base class\n",
    "# is called inside derived class"
   ]
  },
  {
   "cell_type": "code",
   "execution_count": 8,
   "id": "b81badc7-bde2-46e7-b770-ea317ec2e842",
   "metadata": {},
   "outputs": [],
   "source": [
    "class oop1:\n",
    "    \n",
    "    def __init__(self, employee):\n",
    "\n",
    "        self.employee = employee\n",
    "           \n",
    "    def work(self):\n",
    "            \n",
    "        print('{} is still working here'. format(self.employee))\n",
    "            \n",
    "           \n",
    "    def post(self):\n",
    "\n",
    "        print(\"{} is working as Sr. Engineer\".format(self.employee))"
   ]
  },
  {
   "cell_type": "code",
   "execution_count": 9,
   "id": "e09ad7d7-7918-43d3-9bad-c850eebebeac",
   "metadata": {},
   "outputs": [],
   "source": [
    "Rodger = oop1(\"Rodger\")"
   ]
  },
  {
   "cell_type": "code",
   "execution_count": 10,
   "id": "e91e8c5d-debc-4e81-8a8e-770f23465f91",
   "metadata": {},
   "outputs": [
    {
     "name": "stdout",
     "output_type": "stream",
     "text": [
      "Rodger is still working here\n"
     ]
    }
   ],
   "source": [
    "Rodger.work()"
   ]
  },
  {
   "cell_type": "code",
   "execution_count": 11,
   "id": "305ef803-fbb3-45b7-96a9-a40f01fcfbd3",
   "metadata": {},
   "outputs": [
    {
     "name": "stdout",
     "output_type": "stream",
     "text": [
      "Rodger is working as Sr. Engineer\n"
     ]
    }
   ],
   "source": [
    "Rodger.post()"
   ]
  },
  {
   "cell_type": "code",
   "execution_count": 12,
   "id": "cec854d7-8d67-4143-91ab-05f0f6d175f7",
   "metadata": {},
   "outputs": [],
   "source": [
    "class oop2:\n",
    "    \n",
    "    def __init__(self, employee, salary):\n",
    "\n",
    "        self.employee = employee\n",
    "        self.salary = salary\n",
    "           \n",
    "    def work(self):\n",
    "            \n",
    "        print('{} is still working here'. format(self.employee))\n",
    "            \n",
    "           \n",
    "    def post(self):\n",
    "\n",
    "        print(\"{} is working as Sr. Engineer\".format(self.employee))\n",
    "\n",
    "    def income(self):\n",
    "\n",
    "        print(\"{} is the income of {} as a Sr. Engineer\".format(self.salary,self.employee))"
   ]
  },
  {
   "cell_type": "code",
   "execution_count": 13,
   "id": "43e97dec-d2d4-4d92-aaf3-be4f69b38ae4",
   "metadata": {},
   "outputs": [],
   "source": [
    "RRR = oop2(\"Rodger\",100000)"
   ]
  },
  {
   "cell_type": "code",
   "execution_count": 14,
   "id": "c4760704-d4b0-46e4-9a96-690bb1a847a8",
   "metadata": {},
   "outputs": [
    {
     "name": "stdout",
     "output_type": "stream",
     "text": [
      "100000 is the income of Rodger as a Sr. Engineer\n"
     ]
    }
   ],
   "source": [
    "RRR.income()"
   ]
  },
  {
   "cell_type": "code",
   "execution_count": 15,
   "id": "d598d931-848e-44a5-b4be-eaef82aa95e1",
   "metadata": {},
   "outputs": [
    {
     "data": {
      "text/plain": [
       "__main__.oop2"
      ]
     },
     "execution_count": 15,
     "metadata": {},
     "output_type": "execute_result"
    }
   ],
   "source": [
    "type(RRR)"
   ]
  },
  {
   "cell_type": "code",
   "execution_count": 16,
   "id": "28d296dc-61ca-4ffc-96e1-04b3daa0b127",
   "metadata": {},
   "outputs": [
    {
     "data": {
      "text/plain": [
       "'Rodger'"
      ]
     },
     "execution_count": 16,
     "metadata": {},
     "output_type": "execute_result"
    }
   ],
   "source": [
    "RRR.employee"
   ]
  },
  {
   "cell_type": "code",
   "execution_count": 17,
   "id": "78019735-7425-49b1-a04b-0f16a80124be",
   "metadata": {},
   "outputs": [
    {
     "data": {
      "text/plain": [
       "100000"
      ]
     },
     "execution_count": 17,
     "metadata": {},
     "output_type": "execute_result"
    }
   ],
   "source": [
    "RRR.salary"
   ]
  },
  {
   "cell_type": "code",
   "execution_count": 18,
   "id": "b63114a1-0aaa-475b-974b-48bbcf64b9f5",
   "metadata": {},
   "outputs": [
    {
     "data": {
      "text/plain": [
       "<bound method oop2.income of <__main__.oop2 object at 0x000001C949014E10>>"
      ]
     },
     "execution_count": 18,
     "metadata": {},
     "output_type": "execute_result"
    }
   ],
   "source": [
    "RRR.income"
   ]
  },
  {
   "cell_type": "code",
   "execution_count": 19,
   "id": "6a6796fc-6704-4b1b-947e-4087d9338fe4",
   "metadata": {},
   "outputs": [
    {
     "name": "stdout",
     "output_type": "stream",
     "text": [
      "100000 is the income of Rodger as a Sr. Engineer\n"
     ]
    }
   ],
   "source": [
    "RRR.income()"
   ]
  },
  {
   "cell_type": "markdown",
   "id": "a60dda6d-225a-4a7a-a05d-07d76cb3f9b7",
   "metadata": {},
   "source": [
    "### CLASS Inheritance\n",
    "### All you need to do is inherit from base class and reuse the code in the new class"
   ]
  },
  {
   "cell_type": "code",
   "execution_count": 70,
   "id": "3d1c82f7-d031-4b5e-bfae-d61afe88376e",
   "metadata": {},
   "outputs": [],
   "source": [
    "class animal():\n",
    "    def __init__(self):\n",
    "        print(\"Animal created\")\n",
    "        "
   ]
  },
  {
   "cell_type": "code",
   "execution_count": 71,
   "id": "2f3cbc5d-3a33-403e-aa02-ff6373b2b917",
   "metadata": {},
   "outputs": [
    {
     "name": "stdout",
     "output_type": "stream",
     "text": [
      "Animal created\n"
     ]
    }
   ],
   "source": [
    "myanimal = animal()"
   ]
  },
  {
   "cell_type": "code",
   "execution_count": 72,
   "id": "dedb1f71-5954-4083-b910-68e7570e3380",
   "metadata": {},
   "outputs": [],
   "source": [
    "class animal():\n",
    "    def __init__(self):\n",
    "        print(\"Animal created\")\n",
    "\n",
    "    def who_am_i(self):\n",
    "        print(\"I am an animal\")\n",
    "\n",
    "    def eat(self):\n",
    "        print(\"I am eating\")"
   ]
  },
  {
   "cell_type": "code",
   "execution_count": 73,
   "id": "29760f84-fcf4-4fa5-a017-a36526dc1aca",
   "metadata": {},
   "outputs": [
    {
     "name": "stdout",
     "output_type": "stream",
     "text": [
      "Animal created\n"
     ]
    }
   ],
   "source": [
    "myanimal = animal()"
   ]
  },
  {
   "cell_type": "code",
   "execution_count": 74,
   "id": "72b25349-18f1-43c4-aa99-00d42aa3eba8",
   "metadata": {},
   "outputs": [
    {
     "name": "stdout",
     "output_type": "stream",
     "text": [
      "Animal created\n"
     ]
    },
    {
     "data": {
      "text/plain": [
       "<__main__.animal at 0x2c0ede50d50>"
      ]
     },
     "execution_count": 74,
     "metadata": {},
     "output_type": "execute_result"
    }
   ],
   "source": [
    "animal()"
   ]
  },
  {
   "cell_type": "code",
   "execution_count": 75,
   "id": "590b4c88-9bec-4e63-a891-900e5a1fcb93",
   "metadata": {},
   "outputs": [
    {
     "name": "stdout",
     "output_type": "stream",
     "text": [
      "I am an animal\n"
     ]
    }
   ],
   "source": [
    "myanimal.who_am_i()"
   ]
  },
  {
   "cell_type": "code",
   "execution_count": 76,
   "id": "966c4e10-c37f-4dae-956f-206a69163821",
   "metadata": {},
   "outputs": [
    {
     "data": {
      "text/plain": [
       "<__main__.animal at 0x2c0ee212390>"
      ]
     },
     "execution_count": 76,
     "metadata": {},
     "output_type": "execute_result"
    }
   ],
   "source": [
    "myanimal"
   ]
  },
  {
   "cell_type": "code",
   "execution_count": 77,
   "id": "9b3dd660-a3f3-43b2-ad35-5b90e6d19192",
   "metadata": {},
   "outputs": [
    {
     "name": "stdout",
     "output_type": "stream",
     "text": [
      "I am eating\n"
     ]
    }
   ],
   "source": [
    "myanimal.eat()"
   ]
  },
  {
   "cell_type": "code",
   "execution_count": 78,
   "id": "72a96a76-810d-4e94-9f73-e6135123e1e3",
   "metadata": {},
   "outputs": [],
   "source": [
    "class Dog(animal):\n",
    "    \n",
    "    def __init__(self):\n",
    "        animal.__init__(self)\n",
    "        print(\"Dog created\")\n",
    "\n",
    "    def who_am_i(self):\n",
    "        print(\"I am a Dog\")\n",
    "\n",
    "    def eat(self):\n",
    "        print(\"I am a dog and eating\")\n",
    "\n",
    "    def bark(self):\n",
    "        print(\"WOOF!\")"
   ]
  },
  {
   "cell_type": "code",
   "execution_count": 79,
   "id": "ff74fae2-8d1c-4dfe-b3c0-a8606cca2423",
   "metadata": {},
   "outputs": [
    {
     "name": "stdout",
     "output_type": "stream",
     "text": [
      "Animal created\n",
      "Dog created\n"
     ]
    }
   ],
   "source": [
    "mydog = Dog()"
   ]
  },
  {
   "cell_type": "code",
   "execution_count": 80,
   "id": "9478687f-6244-4fc2-a543-23ec3897753d",
   "metadata": {},
   "outputs": [
    {
     "name": "stdout",
     "output_type": "stream",
     "text": [
      "I am a dog and eating\n"
     ]
    }
   ],
   "source": [
    "mydog.eat()"
   ]
  },
  {
   "cell_type": "code",
   "execution_count": 81,
   "id": "eddb4a2e-c049-4503-b293-85afe02438ae",
   "metadata": {},
   "outputs": [
    {
     "name": "stdout",
     "output_type": "stream",
     "text": [
      "WOOF!\n"
     ]
    }
   ],
   "source": [
    "mydog.bark()"
   ]
  },
  {
   "cell_type": "code",
   "execution_count": 82,
   "id": "705cf2f0-2f55-4afb-9151-3eb3a138b2cb",
   "metadata": {},
   "outputs": [
    {
     "name": "stdout",
     "output_type": "stream",
     "text": [
      "I am an animal\n"
     ]
    }
   ],
   "source": [
    "myanimal.who_am_i()"
   ]
  },
  {
   "cell_type": "code",
   "execution_count": 83,
   "id": "fb961bb7-7649-4056-bc40-95c720364459",
   "metadata": {},
   "outputs": [
    {
     "name": "stdout",
     "output_type": "stream",
     "text": [
      "I am a Dog\n"
     ]
    }
   ],
   "source": [
    "mydog.who_am_i()"
   ]
  },
  {
   "cell_type": "code",
   "execution_count": 84,
   "id": "8b6e2997-6962-4507-a04c-7440933f13cc",
   "metadata": {},
   "outputs": [
    {
     "name": "stdout",
     "output_type": "stream",
     "text": [
      "I am eating\n"
     ]
    }
   ],
   "source": [
    "myanimal.eat()"
   ]
  },
  {
   "cell_type": "markdown",
   "id": "e2a82f38-2eef-478a-bd98-de25cb9e098c",
   "metadata": {},
   "source": [
    "# Polymorphism"
   ]
  },
  {
   "cell_type": "markdown",
   "id": "4165b8ce-e278-46bd-9047-c777e5824bed",
   "metadata": {},
   "source": [
    "### In python polymorphism refers to the way in which different object classes can share the same method name \n",
    "### and then those methods can be called from the same place even though a variety of different objects might be passed in.\n",
    "### Object specific results from the same method call\n"
   ]
  },
  {
   "cell_type": "code",
   "execution_count": 1,
   "id": "ba6fb6a9-f4c1-47b6-b956-c217c95608fb",
   "metadata": {},
   "outputs": [],
   "source": [
    "class Dog():\n",
    "    def __init__(self,name):\n",
    "        self.name = name\n",
    "    def speak(self):\n",
    "        return self.name + \" says Woof!\""
   ]
  },
  {
   "cell_type": "code",
   "execution_count": 2,
   "id": "9636dd6e-5d53-465e-84b2-3451082b5f10",
   "metadata": {},
   "outputs": [],
   "source": [
    "class Cat():\n",
    "    def __init__(self,name):\n",
    "        self.name = name\n",
    "    \n",
    "    def speak(self):\n",
    "        return self.name + \" says Meow!\""
   ]
  },
  {
   "cell_type": "code",
   "execution_count": 3,
   "id": "a0e5e05d-9003-4561-83d7-9e101fdd5e72",
   "metadata": {},
   "outputs": [],
   "source": [
    "niko = Dog(\"niko\")"
   ]
  },
  {
   "cell_type": "code",
   "execution_count": 4,
   "id": "217f1756-8ab1-46b3-a157-7443829e4789",
   "metadata": {},
   "outputs": [
    {
     "data": {
      "text/plain": [
       "'niko says Woof!'"
      ]
     },
     "execution_count": 4,
     "metadata": {},
     "output_type": "execute_result"
    }
   ],
   "source": [
    "niko.speak()"
   ]
  },
  {
   "cell_type": "code",
   "execution_count": 7,
   "id": "30a1a9c5-1d69-4ee8-9443-8e1c1dbf970f",
   "metadata": {},
   "outputs": [],
   "source": [
    "jj = Dog(\"monty\")"
   ]
  },
  {
   "cell_type": "code",
   "execution_count": 8,
   "id": "04935d32-febd-42aa-b3b8-b7ab6d38bc46",
   "metadata": {},
   "outputs": [
    {
     "data": {
      "text/plain": [
       "'monty says Woof!'"
      ]
     },
     "execution_count": 8,
     "metadata": {},
     "output_type": "execute_result"
    }
   ],
   "source": [
    "jj.speak()"
   ]
  },
  {
   "cell_type": "code",
   "execution_count": 5,
   "id": "3898cf3e-7364-44a9-803d-85052f0026d1",
   "metadata": {},
   "outputs": [],
   "source": [
    "feli = Cat(\"felix\")"
   ]
  },
  {
   "cell_type": "code",
   "execution_count": 114,
   "id": "75bdf946-1ebb-40f6-9e91-a4318b3ddf40",
   "metadata": {},
   "outputs": [
    {
     "data": {
      "text/plain": [
       "<__main__.Cat at 0x2c0ee20bed0>"
      ]
     },
     "execution_count": 114,
     "metadata": {},
     "output_type": "execute_result"
    }
   ],
   "source": [
    "feli"
   ]
  },
  {
   "cell_type": "code",
   "execution_count": 115,
   "id": "37481c25-281e-48f4-99c4-8596df118d83",
   "metadata": {},
   "outputs": [
    {
     "data": {
      "text/plain": [
       "'felix says Meow!'"
      ]
     },
     "execution_count": 115,
     "metadata": {},
     "output_type": "execute_result"
    }
   ],
   "source": [
    "feli.speak()"
   ]
  },
  {
   "cell_type": "code",
   "execution_count": 116,
   "id": "d400ed1a-8c38-4e7c-ae73-78da3cd47ec9",
   "metadata": {},
   "outputs": [
    {
     "name": "stdout",
     "output_type": "stream",
     "text": [
      "<class '__main__.Dog'>\n",
      "niko says Woof!\n",
      "<class '__main__.Cat'>\n",
      "felix says Meow!\n"
     ]
    }
   ],
   "source": [
    "for pet in [niko,feli]:\n",
    "    print(type(pet))\n",
    "    print(pet.speak())"
   ]
  },
  {
   "cell_type": "code",
   "execution_count": 117,
   "id": "4d017dd2-8bce-4aec-9481-83741febd94c",
   "metadata": {},
   "outputs": [],
   "source": [
    "def pet_speak(p):\n",
    "    print(p.speak())"
   ]
  },
  {
   "cell_type": "code",
   "execution_count": 118,
   "id": "385825bc-b12a-4f09-9aac-5c1734a42bab",
   "metadata": {},
   "outputs": [
    {
     "name": "stdout",
     "output_type": "stream",
     "text": [
      "niko says Woof!\n"
     ]
    }
   ],
   "source": [
    "pet_speak(niko)"
   ]
  },
  {
   "cell_type": "code",
   "execution_count": 119,
   "id": "9cf4db36-6138-4ea7-af8d-15fe2b19a1b4",
   "metadata": {},
   "outputs": [
    {
     "name": "stdout",
     "output_type": "stream",
     "text": [
      "felix says Meow!\n"
     ]
    }
   ],
   "source": [
    "pet_speak(feli)"
   ]
  },
  {
   "cell_type": "markdown",
   "id": "318de5eb-fa36-431d-b940-e4fa15bc3f90",
   "metadata": {},
   "source": [
    "# Abstract classes and method"
   ]
  },
  {
   "cell_type": "markdown",
   "id": "4d43842f-262d-41f0-8fed-08564bc967fe",
   "metadata": {},
   "source": [
    "### Abstract classes is one that never expects to be instantiated, never actually expects to create an instance of this class.\n",
    "### It is just designed to basically serve as a base class"
   ]
  },
  {
   "cell_type": "code",
   "execution_count": 176,
   "id": "64eccd24-7d58-47a5-ab95-100acb5b0f4b",
   "metadata": {},
   "outputs": [],
   "source": [
    "class Animal():\n",
    "    \n",
    "    def __init__(self,name):\n",
    "        self.name = name\n",
    "    \n",
    "    def speak(self):\n",
    "        raise NotImplementedError(\"SUbclasses must implement this abstract method\")"
   ]
  },
  {
   "cell_type": "code",
   "execution_count": 177,
   "id": "fb39ca4d-3641-4e18-8d62-53aefd297d0f",
   "metadata": {},
   "outputs": [],
   "source": [
    "myanimal  = Animal(\"fred\")"
   ]
  },
  {
   "cell_type": "code",
   "execution_count": 178,
   "id": "c19dfae4-40f1-4d75-aa5c-23f3f165db29",
   "metadata": {},
   "outputs": [
    {
     "ename": "NotImplementedError",
     "evalue": "SUbclasses must implement this abstract method",
     "output_type": "error",
     "traceback": [
      "\u001b[1;31m---------------------------------------------------------------------------\u001b[0m",
      "\u001b[1;31mNotImplementedError\u001b[0m                       Traceback (most recent call last)",
      "Cell \u001b[1;32mIn[178], line 1\u001b[0m\n\u001b[1;32m----> 1\u001b[0m myanimal\u001b[38;5;241m.\u001b[39mspeak()\n",
      "Cell \u001b[1;32mIn[176], line 7\u001b[0m, in \u001b[0;36mAnimal.speak\u001b[1;34m(self)\u001b[0m\n\u001b[0;32m      6\u001b[0m \u001b[38;5;28;01mdef\u001b[39;00m \u001b[38;5;21mspeak\u001b[39m(\u001b[38;5;28mself\u001b[39m):\n\u001b[1;32m----> 7\u001b[0m     \u001b[38;5;28;01mraise\u001b[39;00m \u001b[38;5;167;01mNotImplementedError\u001b[39;00m(\u001b[38;5;124m\"\u001b[39m\u001b[38;5;124mSUbclasses must implement this abstract method\u001b[39m\u001b[38;5;124m\"\u001b[39m)\n",
      "\u001b[1;31mNotImplementedError\u001b[0m: SUbclasses must implement this abstract method"
     ]
    }
   ],
   "source": [
    "myanimal.speak()"
   ]
  },
  {
   "cell_type": "code",
   "execution_count": 179,
   "id": "3ad55e2c-da16-40b7-951f-dd9e35e93965",
   "metadata": {},
   "outputs": [],
   "source": [
    "class Dog(Animal):\n",
    "    def speak(self):\n",
    "        return self.name + \" says Woof!\""
   ]
  },
  {
   "cell_type": "code",
   "execution_count": 180,
   "id": "90914c71-8258-4bc5-9535-325b2a741894",
   "metadata": {},
   "outputs": [],
   "source": [
    "fred = Dog(\"fred\")"
   ]
  },
  {
   "cell_type": "code",
   "execution_count": 181,
   "id": "999430d4-3a62-45d5-a73c-538350505102",
   "metadata": {},
   "outputs": [
    {
     "data": {
      "text/plain": [
       "'fred says Woof!'"
      ]
     },
     "execution_count": 181,
     "metadata": {},
     "output_type": "execute_result"
    }
   ],
   "source": [
    "fred.speak()"
   ]
  },
  {
   "cell_type": "code",
   "execution_count": 182,
   "id": "a79ba33b-769c-4efc-a767-40d76c519919",
   "metadata": {},
   "outputs": [],
   "source": [
    "class Cat(Animal):\n",
    "    def speak(self):\n",
    "        return self.name + \" says Meow!\""
   ]
  },
  {
   "cell_type": "code",
   "execution_count": 183,
   "id": "050c259d-e11c-4be9-8ac5-2b8d80c5de98",
   "metadata": {},
   "outputs": [],
   "source": [
    "jessi = Cat(\"Jessi\")"
   ]
  },
  {
   "cell_type": "code",
   "execution_count": 184,
   "id": "181f3a9f-32d9-4583-9776-c7269f87f3f1",
   "metadata": {},
   "outputs": [
    {
     "data": {
      "text/plain": [
       "'Jessi says Meow!'"
      ]
     },
     "execution_count": 184,
     "metadata": {},
     "output_type": "execute_result"
    }
   ],
   "source": [
    "jessi.speak()"
   ]
  },
  {
   "cell_type": "code",
   "execution_count": 185,
   "id": "3c2cfa70-e90c-4266-9fd1-5fdd97a0f920",
   "metadata": {},
   "outputs": [],
   "source": [
    "class Mammal():\n",
    "    \n",
    "    def __init__(self,name):\n",
    "        self.name = name"
   ]
  },
  {
   "cell_type": "code",
   "execution_count": 186,
   "id": "d6d072dd-37e4-4dfe-894d-de7f34930f3c",
   "metadata": {},
   "outputs": [],
   "source": [
    "class Dog(Mammal):\n",
    "    def speak(self):\n",
    "        return self.name + \" says Woof!\""
   ]
  },
  {
   "cell_type": "code",
   "execution_count": 187,
   "id": "beb250e6-d5a4-4865-8240-098494a72e55",
   "metadata": {},
   "outputs": [],
   "source": [
    "Monty = Dog(\"Monty\")"
   ]
  },
  {
   "cell_type": "code",
   "execution_count": 188,
   "id": "d9d7ca6a-38c4-4742-a925-0c26348bc40f",
   "metadata": {},
   "outputs": [
    {
     "data": {
      "text/plain": [
       "'Monty says Woof!'"
      ]
     },
     "execution_count": 188,
     "metadata": {},
     "output_type": "execute_result"
    }
   ],
   "source": [
    "Monty.speak()"
   ]
  },
  {
   "cell_type": "code",
   "execution_count": 189,
   "id": "25a9a37d-087d-492a-9424-28583ffba7b4",
   "metadata": {},
   "outputs": [],
   "source": [
    "class Cat(Mammal):\n",
    "    def speak(self):\n",
    "        return self.name + \" says Meow!\""
   ]
  },
  {
   "cell_type": "code",
   "execution_count": 190,
   "id": "e4febaa8-9de1-48c3-9a08-6ee3c75e0d9b",
   "metadata": {},
   "outputs": [],
   "source": [
    "Jonty = Cat(\"Jonty\")"
   ]
  },
  {
   "cell_type": "code",
   "execution_count": 191,
   "id": "7216714a-f539-4e21-b4cf-316373942846",
   "metadata": {},
   "outputs": [
    {
     "data": {
      "text/plain": [
       "'Jonty says Meow!'"
      ]
     },
     "execution_count": 191,
     "metadata": {},
     "output_type": "execute_result"
    }
   ],
   "source": [
    "Jonty.speak()"
   ]
  },
  {
   "cell_type": "code",
   "execution_count": 200,
   "id": "af6c6114-e86f-467d-afe9-b0cd2547ae2d",
   "metadata": {},
   "outputs": [],
   "source": [
    "class Circle:\n",
    "    pi = 3.14\n",
    "\n",
    "    # Circle gets instantiated with a radius (default is 1)\n",
    "    def __init__(self, radius=1):\n",
    "        self.radius = radius \n",
    "        self.area = radius * radius * Circle.pi\n",
    "\n",
    "    # Method for resetting Radius\n",
    "    def setRadius(self, new_radius):\n",
    "        self.radius = new_radius\n",
    "        self.area = new_radius * new_radius * self.pi\n",
    "\n",
    "    # Method for getting Circumference\n",
    "    def getCircumference(self):\n",
    "        return self.radius * self.pi * 2\n",
    "\n"
   ]
  },
  {
   "cell_type": "code",
   "execution_count": 201,
   "id": "72494ef4-a602-424e-957e-5e8b2b9eef73",
   "metadata": {},
   "outputs": [
    {
     "name": "stdout",
     "output_type": "stream",
     "text": [
      "Radius is:  1\n",
      "Area is:  3.14\n",
      "Circumference is:  6.28\n"
     ]
    }
   ],
   "source": [
    "c = Circle()\n",
    "\n",
    "print('Radius is: ',c.radius)\n",
    "print('Area is: ',c.area)\n",
    "print('Circumference is: ',c.getCircumference())"
   ]
  },
  {
   "cell_type": "markdown",
   "id": "143080c2-df5d-4120-977c-f639dd8d8357",
   "metadata": {},
   "source": [
    "# Cylinder"
   ]
  },
  {
   "cell_type": "code",
   "execution_count": 195,
   "id": "bdcd3547-9946-4a7a-8280-3c033d7779e4",
   "metadata": {},
   "outputs": [],
   "source": [
    "class Cylinder:\n",
    "\n",
    "    pi = 3.14\n",
    "    \n",
    "    def __init__(self,height=1,radius=1):\n",
    "\n",
    "        self.height = height\n",
    "        self.radius = radius\n",
    "                \n",
    "    def volume(self):\n",
    "        return Cylinder.pi * self.radius**2 * self.height\n",
    "    \n",
    "    def surface_area(self):\n",
    "        return 2* Cylinder.pi * self.radius * self.height + 2*Cylinder.pi*self.radius**2"
   ]
  },
  {
   "cell_type": "code",
   "execution_count": 196,
   "id": "d192d1dc-8241-4588-824a-be20d5dee125",
   "metadata": {},
   "outputs": [],
   "source": [
    "# EXAMPLE OUTPUT\n",
    "c = Cylinder(2,3)"
   ]
  },
  {
   "cell_type": "code",
   "execution_count": 197,
   "id": "8f5931eb-ab27-49e1-875a-71181201fcff",
   "metadata": {},
   "outputs": [
    {
     "data": {
      "text/plain": [
       "56.52"
      ]
     },
     "execution_count": 197,
     "metadata": {},
     "output_type": "execute_result"
    }
   ],
   "source": [
    "c.volume()"
   ]
  },
  {
   "cell_type": "code",
   "execution_count": 198,
   "id": "821e9223-39b7-4cf4-af7d-d4460e0f38c0",
   "metadata": {},
   "outputs": [
    {
     "data": {
      "text/plain": [
       "94.2"
      ]
     },
     "execution_count": 198,
     "metadata": {},
     "output_type": "execute_result"
    }
   ],
   "source": [
    "c.surface_area()"
   ]
  },
  {
   "cell_type": "markdown",
   "id": "a78eec70-5b38-4550-a6cc-7af5006585c2",
   "metadata": {},
   "source": [
    "### Fill in the Line class methods to accept coordinates as a pair of tuples and return the slope and distance of the line."
   ]
  },
  {
   "cell_type": "code",
   "execution_count": 262,
   "id": "6df2f9c9-dfd8-4c00-9812-9a087fdc8c78",
   "metadata": {},
   "outputs": [],
   "source": [
    "class Line:\n",
    "\n",
    "   \n",
    "    def __init__(self,coor1,coor2):\n",
    "        self.coor1 = coor1\n",
    "        self.coor2 = coor2\n",
    "        \n",
    "    \n",
    "    def distance(self):\n",
    "        a = self.coor2[0]-self.coor1[0]\n",
    "        b = self.coor2[1]-self.coor1[1]\n",
    "        return ((a)**2 + (b)**2)**(0.5)\n",
    "    \n",
    "    def slope(self):\n",
    "        a = self.coor2[0]-self.coor1[0]\n",
    "        b = self.coor2[1]-self.coor1[1]\n",
    "        return (b)/(a)"
   ]
  },
  {
   "cell_type": "code",
   "execution_count": 263,
   "id": "7ba7769f-713c-4dcc-a9ca-f3b919c2f135",
   "metadata": {},
   "outputs": [],
   "source": [
    "# EXAMPLE OUTPUT\n",
    "coor1 = (3,2)\n",
    "coor2 = (8,10)\n",
    "\n",
    "li = Line(coor1,coor2)"
   ]
  },
  {
   "cell_type": "code",
   "execution_count": 264,
   "id": "9b91931a-9a35-4f4c-83b8-9c6ae2a8fd98",
   "metadata": {},
   "outputs": [
    {
     "data": {
      "text/plain": [
       "9.433981132056603"
      ]
     },
     "execution_count": 264,
     "metadata": {},
     "output_type": "execute_result"
    }
   ],
   "source": [
    "li.distance()"
   ]
  },
  {
   "cell_type": "code",
   "execution_count": 265,
   "id": "477a88f8-ffac-44fc-88f2-9d5276d9bd17",
   "metadata": {},
   "outputs": [
    {
     "data": {
      "text/plain": [
       "1.6"
      ]
     },
     "execution_count": 265,
     "metadata": {},
     "output_type": "execute_result"
    }
   ],
   "source": [
    "li.slope()"
   ]
  },
  {
   "cell_type": "code",
   "execution_count": 266,
   "id": "8a19e454-94f3-4d8c-829a-37219dbd6968",
   "metadata": {},
   "outputs": [],
   "source": [
    "coor1 = (5,2)\n",
    "coor2 = (18,10)"
   ]
  },
  {
   "cell_type": "code",
   "execution_count": 267,
   "id": "1b5c33a2-2887-4ea0-9f8d-0cc0d83f91cf",
   "metadata": {},
   "outputs": [],
   "source": [
    "lulu = Line(coor1,coor2)"
   ]
  },
  {
   "cell_type": "code",
   "execution_count": 268,
   "id": "f0af796b-c6fb-4f11-84d1-71f8b16ef184",
   "metadata": {},
   "outputs": [
    {
     "data": {
      "text/plain": [
       "15.264337522473747"
      ]
     },
     "execution_count": 268,
     "metadata": {},
     "output_type": "execute_result"
    }
   ],
   "source": [
    "lulu.distance()"
   ]
  },
  {
   "cell_type": "code",
   "execution_count": 269,
   "id": "4c16997d-aa14-484a-ba15-dfe303ff74fa",
   "metadata": {},
   "outputs": [
    {
     "data": {
      "text/plain": [
       "0.6153846153846154"
      ]
     },
     "execution_count": 269,
     "metadata": {},
     "output_type": "execute_result"
    }
   ],
   "source": [
    "lulu.slope()"
   ]
  },
  {
   "cell_type": "code",
   "execution_count": 270,
   "id": "59d89d21-bca2-4982-9fb6-d2ad628e8708",
   "metadata": {},
   "outputs": [],
   "source": [
    "class Line(object):\n",
    "    \n",
    "    def __init__(self,coor1,coor2):\n",
    "        self.coor1 = coor1\n",
    "        self.coor2 = coor2\n",
    "    \n",
    "    def distance(self):\n",
    "        x1,y1 = self.coor1\n",
    "        x2,y2 = self.coor2\n",
    "        return ((x2-x1)**2 + (y2-y1)**2)**0.5\n",
    "    \n",
    "    def slope(self):\n",
    "        x1,y1 = self.coor1\n",
    "        x2,y2 = self.coor2\n",
    "        return (y2-y1)/(x2-x1)"
   ]
  },
  {
   "cell_type": "code",
   "execution_count": 271,
   "id": "56d57d96-3b2f-4fee-9613-26252e96348e",
   "metadata": {},
   "outputs": [],
   "source": [
    "coordinate1 = (3,2)\n",
    "coordinate2 = (8,10)\n",
    "\n",
    "li = Line(coordinate1,coordinate2)"
   ]
  },
  {
   "cell_type": "code",
   "execution_count": 272,
   "id": "9764f044-4113-4c4f-8d7e-968e190077f5",
   "metadata": {},
   "outputs": [
    {
     "data": {
      "text/plain": [
       "9.433981132056603"
      ]
     },
     "execution_count": 272,
     "metadata": {},
     "output_type": "execute_result"
    }
   ],
   "source": [
    "li.distance()"
   ]
  },
  {
   "cell_type": "code",
   "execution_count": 273,
   "id": "4572fd6c-6113-45c3-a532-0f6a3351c67a",
   "metadata": {},
   "outputs": [
    {
     "data": {
      "text/plain": [
       "1.6"
      ]
     },
     "execution_count": 273,
     "metadata": {},
     "output_type": "execute_result"
    }
   ],
   "source": [
    "li.slope()"
   ]
  },
  {
   "cell_type": "markdown",
   "id": "05b322b3-8a91-4db7-949b-08fb358278d2",
   "metadata": {},
   "source": [
    "# Object Oriented Programming Challenge\n",
    "### For this challenge, create a bank account class that has two attributes:\n",
    "\n",
    "#### *owner\n",
    "#### *balance\n",
    "### and two methods:\n",
    "\n",
    "#### *deposit\n",
    "#### *withdraw\n",
    "### As an added requirement, withdrawals may not exceed the available balance.\n",
    "\n",
    "### Instantiate your class, make several deposits and withdrawals, and test to make sure the account can't be overdrawn."
   ]
  },
  {
   "cell_type": "code",
   "execution_count": 357,
   "id": "2b029931-bbf0-4a3a-b773-266c4a5ff657",
   "metadata": {},
   "outputs": [],
   "source": [
    "class Account:\n",
    "    \n",
    "    \n",
    "    def __init__(self,name,Balance = 1000):\n",
    "        self.name = name\n",
    "        self.Balance = Balance\n",
    "        \n",
    "\n",
    "    def Deposit(self,deposit):\n",
    "\n",
    "        self.deposit = deposit\n",
    "        self.Balance = self.Balance + self.deposit\n",
    "        print(\"{}$ is deposited\".format(self.deposit))\n",
    "        \n",
    "        return (\"New available balance is {}$ \" .format(self.Balance))\n",
    "\n",
    "\n",
    "    def Withdrawal(self,withdraw):\n",
    "\n",
    "        self.withdraw = withdraw\n",
    "        \n",
    "        if self.withdraw <= self.Balance:\n",
    "            \n",
    "            self.Balance = self.Balance - self.withdraw\n",
    "            print(\"{}$ is withdrawn\".format(self.withdraw))\n",
    "            \n",
    "            return (\"New available balance is {}$ \" .format(self.Balance))\n",
    "\n",
    "        else:\n",
    "            \n",
    "            print(\"Insufficient funds\")\n",
    "\n",
    "\n",
    "    def check_balance(self):\n",
    "\n",
    "        print(\"Available balance is {}$\" .format(self.Balance))\n",
    "\n",
    "    def __str__(self):\n",
    "        \n",
    "        return (\"Account owner : {} \\nAccount balance: {}$\" .format(self.name,self.Balance))       \n",
    "        \n",
    "    "
   ]
  },
  {
   "cell_type": "code",
   "execution_count": 358,
   "id": "2f2cef44-74e5-48e1-b133-dad420d436fc",
   "metadata": {},
   "outputs": [],
   "source": [
    "AC = Account(\"kk\",1000)"
   ]
  },
  {
   "cell_type": "code",
   "execution_count": 359,
   "id": "2eb827dc-b777-471f-b0a6-72a89faa53a2",
   "metadata": {},
   "outputs": [
    {
     "name": "stdout",
     "output_type": "stream",
     "text": [
      "Account owner : kk \n",
      "Account balance: 1000$\n"
     ]
    }
   ],
   "source": [
    "print(AC)"
   ]
  },
  {
   "cell_type": "code",
   "execution_count": 360,
   "id": "b34e7793-63cc-4f9d-b564-9e291669a154",
   "metadata": {},
   "outputs": [
    {
     "name": "stdout",
     "output_type": "stream",
     "text": [
      "50$ is deposited\n"
     ]
    },
    {
     "data": {
      "text/plain": [
       "'New available balance is 1050$ '"
      ]
     },
     "execution_count": 360,
     "metadata": {},
     "output_type": "execute_result"
    }
   ],
   "source": [
    "AC.Deposit(50)"
   ]
  },
  {
   "cell_type": "code",
   "execution_count": 361,
   "id": "fedd9afa-e851-47f5-9365-ec2ca0f3e295",
   "metadata": {},
   "outputs": [
    {
     "name": "stdout",
     "output_type": "stream",
     "text": [
      "200$ is withdrawn\n"
     ]
    },
    {
     "data": {
      "text/plain": [
       "'New available balance is 850$ '"
      ]
     },
     "execution_count": 361,
     "metadata": {},
     "output_type": "execute_result"
    }
   ],
   "source": [
    "AC.Withdrawal(200)"
   ]
  },
  {
   "cell_type": "code",
   "execution_count": 362,
   "id": "39459460-6de5-40e0-8679-6f6db3678d27",
   "metadata": {},
   "outputs": [
    {
     "name": "stdout",
     "output_type": "stream",
     "text": [
      "500$ is deposited\n"
     ]
    },
    {
     "data": {
      "text/plain": [
       "'New available balance is 1350$ '"
      ]
     },
     "execution_count": 362,
     "metadata": {},
     "output_type": "execute_result"
    }
   ],
   "source": [
    "AC.Deposit(500)"
   ]
  },
  {
   "cell_type": "code",
   "execution_count": 363,
   "id": "ab2bcf92-5516-41fb-b030-d5e2b9d3c874",
   "metadata": {},
   "outputs": [
    {
     "data": {
      "text/plain": [
       "1350"
      ]
     },
     "execution_count": 363,
     "metadata": {},
     "output_type": "execute_result"
    }
   ],
   "source": [
    "AC.Balance"
   ]
  },
  {
   "cell_type": "code",
   "execution_count": 364,
   "id": "6a096a6c-a130-413f-9a28-9c943ca61919",
   "metadata": {},
   "outputs": [
    {
     "name": "stdout",
     "output_type": "stream",
     "text": [
      "Insufficient funds\n"
     ]
    }
   ],
   "source": [
    "AC.Withdrawal(2000)"
   ]
  },
  {
   "cell_type": "code",
   "execution_count": 365,
   "id": "eb26dac4-efa1-45f6-a6b8-23cfa2ab76fe",
   "metadata": {},
   "outputs": [
    {
     "data": {
      "text/plain": [
       "1350"
      ]
     },
     "execution_count": 365,
     "metadata": {},
     "output_type": "execute_result"
    }
   ],
   "source": [
    "AC.Balance"
   ]
  },
  {
   "cell_type": "code",
   "execution_count": 366,
   "id": "df63bfc7-7476-42eb-8cd0-f13a73c69f0d",
   "metadata": {},
   "outputs": [
    {
     "name": "stdout",
     "output_type": "stream",
     "text": [
      "Available balance is 1350$\n"
     ]
    }
   ],
   "source": [
    "AC.check_balance()"
   ]
  },
  {
   "cell_type": "code",
   "execution_count": 367,
   "id": "a703a6d6-3c20-408b-86c0-3bb85a44d609",
   "metadata": {},
   "outputs": [
    {
     "name": "stdout",
     "output_type": "stream",
     "text": [
      "Account owner : kk \n",
      "Account balance: 1350$\n"
     ]
    }
   ],
   "source": [
    "print(AC)"
   ]
  },
  {
   "cell_type": "code",
   "execution_count": 368,
   "id": "858ab590-e746-41ab-8384-d3da907d0c03",
   "metadata": {},
   "outputs": [
    {
     "data": {
      "text/plain": [
       "'kk'"
      ]
     },
     "execution_count": 368,
     "metadata": {},
     "output_type": "execute_result"
    }
   ],
   "source": [
    "AC.name"
   ]
  },
  {
   "cell_type": "code",
   "execution_count": 369,
   "id": "7ae3bffe-a2b8-49f1-b252-34687e60bbe5",
   "metadata": {},
   "outputs": [
    {
     "name": "stdout",
     "output_type": "stream",
     "text": [
      "1350$ is withdrawn\n"
     ]
    },
    {
     "data": {
      "text/plain": [
       "'New available balance is 0$ '"
      ]
     },
     "execution_count": 369,
     "metadata": {},
     "output_type": "execute_result"
    }
   ],
   "source": [
    "AC.Withdrawal(1350)"
   ]
  },
  {
   "cell_type": "code",
   "execution_count": 370,
   "id": "75ab02d1-64a4-4772-b6a9-f7fd281283f2",
   "metadata": {},
   "outputs": [
    {
     "data": {
      "text/plain": [
       "['Balance',\n",
       " 'Deposit',\n",
       " 'Withdrawal',\n",
       " '__class__',\n",
       " '__delattr__',\n",
       " '__dict__',\n",
       " '__dir__',\n",
       " '__doc__',\n",
       " '__eq__',\n",
       " '__format__',\n",
       " '__ge__',\n",
       " '__getattribute__',\n",
       " '__getstate__',\n",
       " '__gt__',\n",
       " '__hash__',\n",
       " '__init__',\n",
       " '__init_subclass__',\n",
       " '__le__',\n",
       " '__lt__',\n",
       " '__module__',\n",
       " '__ne__',\n",
       " '__new__',\n",
       " '__reduce__',\n",
       " '__reduce_ex__',\n",
       " '__repr__',\n",
       " '__setattr__',\n",
       " '__sizeof__',\n",
       " '__str__',\n",
       " '__subclasshook__',\n",
       " '__weakref__',\n",
       " 'check_balance',\n",
       " 'deposit',\n",
       " 'name',\n",
       " 'withdraw']"
      ]
     },
     "execution_count": 370,
     "metadata": {},
     "output_type": "execute_result"
    }
   ],
   "source": [
    "dir(AC) "
   ]
  },
  {
   "cell_type": "code",
   "execution_count": null,
   "id": "1b32cf5d-c982-4631-b4fe-2fdab9de35a7",
   "metadata": {},
   "outputs": [],
   "source": []
  },
  {
   "cell_type": "code",
   "execution_count": null,
   "id": "87a639ee-09bf-45fb-b780-a750a2020238",
   "metadata": {},
   "outputs": [],
   "source": []
  },
  {
   "cell_type": "code",
   "execution_count": null,
   "id": "8035b06c-322d-498a-82f0-f029d9031322",
   "metadata": {},
   "outputs": [],
   "source": []
  }
 ],
 "metadata": {
  "kernelspec": {
   "display_name": "Python 3 (ipykernel)",
   "language": "python",
   "name": "python3"
  },
  "language_info": {
   "codemirror_mode": {
    "name": "ipython",
    "version": 3
   },
   "file_extension": ".py",
   "mimetype": "text/x-python",
   "name": "python",
   "nbconvert_exporter": "python",
   "pygments_lexer": "ipython3",
   "version": "3.11.7"
  }
 },
 "nbformat": 4,
 "nbformat_minor": 5
}
